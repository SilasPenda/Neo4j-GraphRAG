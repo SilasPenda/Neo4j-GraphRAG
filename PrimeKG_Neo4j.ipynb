{
 "cells": [
  {
   "cell_type": "code",
   "execution_count": 3,
   "metadata": {},
   "outputs": [
    {
     "data": {
      "text/plain": [
       "True"
      ]
     },
     "execution_count": 3,
     "metadata": {},
     "output_type": "execute_result"
    }
   ],
   "source": [
    "# from langchain_neo4j import Neo4jGraph\n",
    "import os\n",
    "from dotenv import load_dotenv\n",
    "from langchain.graphs import Neo4jGraph\n",
    "from langchain.prompts import PromptTemplate\n",
    "from langchain.chains.graph_qa.cypher import GraphCypherQAChain\n",
    "from langchain_openai import ChatOpenAI"
   ]
  },
  {
   "cell_type": "code",
   "execution_count": 5,
   "metadata": {},
   "outputs": [],
   "source": [
    "load_dotenv()\n",
    "\n",
    "url = os.getenv(\"url\")\n",
    "username = os.getenv(\"username\")\n",
    "password = os.getenv(\"password\")\n",
    "database = os.getenv(\"database\")"
   ]
  },
  {
   "cell_type": "code",
   "execution_count": 7,
   "metadata": {},
   "outputs": [],
   "source": [
    "os.environ[\"OPENAI_API_KEY\"]\n",
    "\n",
    "llm = ChatOpenAI(model_name=\"gpt-4o\")"
   ]
  },
  {
   "cell_type": "code",
   "execution_count": 10,
   "metadata": {},
   "outputs": [],
   "source": [
    "graph = Neo4jGraph(url=url, username=username, password=password, database=database)"
   ]
  },
  {
   "cell_type": "code",
   "execution_count": 11,
   "metadata": {},
   "outputs": [
    {
     "data": {
      "text/plain": [
       "[{'COUNT(n)': 129375}]"
      ]
     },
     "execution_count": 11,
     "metadata": {},
     "output_type": "execute_result"
    }
   ],
   "source": [
    "# Check graph connection is working\n",
    "graph.query(\"MATCH (n) RETURN COUNT(n)\")"
   ]
  },
  {
   "cell_type": "code",
   "execution_count": 12,
   "metadata": {},
   "outputs": [],
   "source": [
    "# Retrieve the graph schema\n",
    "schema = graph.get_schema\n",
    "\n",
    "# Create template for generating cypher code using LLM\n",
    "template = \"\"\"\n",
    "Task: Generate a Cypher statement to query the graph database.\n",
    "\n",
    "Instructions:\n",
    "Use only relationship types and properties provided in schema.\n",
    "Do not use other relationship types or properties that are not provided.\n",
    "You can match the different relationships to come up with the answer to the question\n",
    "If a name is given, check if any property name contains the given name\n",
    "\n",
    "schema:\n",
    "{schema}\n",
    "\n",
    "Examples:\n",
    "1. Question: what could be the environmental risk factors for Diabetes?\n",
    "\tCypher: MATCH (e:exposure)-[:exposure_disease]-(d:disease)\n",
    "\tWHERE d.node_name CONTAINS 'diabetes'\n",
    "\tRETURN e.node_name AS Environmental_Risk_Factor, d.node_name AS Disease\n",
    "\n",
    "2. Question: What could be the environmental risk factors for Cardiovascular disease?\n",
    "\tCypher: MATCH (e:exposure)-[:exposure_disease]-(d:disease)\n",
    "\tWHERE d.node_name CONTAINS 'cardiovascular disease'\n",
    "\tRETURN e.node_name AS Environmental_Risk_Factor, d.node_name AS Disease\n",
    "\n",
    "3. Question: Which occupational hazards are linked to an increased risk of respiratory diseases?\n",
    "\tCypher: MATCH (e:exposure)-[:exposure_disease]-(d:disease)\n",
    "\tWHERE d.node_name CONTAINS 'respiratory'\n",
    "\tRETURN e.node_name AS Environmental_Risk_Factor, d.node_name AS Disease\n",
    "\n",
    "4. Question: What are the most common secondary diseases in patients with diabetes or obesity?\n",
    "\tCypher: MATCH (d1:disease)-[:disease_disease]-(d2:disease),\n",
    "      \t\t(d1)-[:disease_protein]-(p:gene__protein)\n",
    "\tWHERE d1.node_name CONTAINS 'diabetes' OR d1.node_name CONTAINS 'obesity'\n",
    "\tRETURN d1.node_name AS Primary_Disease, d2.node_name AS Secondary_Disease, p.node_name AS Protein\n",
    "\n",
    "5. Question: Explore the relationship between environmental exposures and diseases affecting reproduction\n",
    "\tCypher: MATCH (e:exposure)-[:exposure_disease]-(d:disease),\n",
    "      \t\t(e)-[:exposure_protein]-(p:gene__protein),\n",
    "      \t\t(d)-[:disease_protein]-(p)\n",
    "\tWHERE d.node_name CONTAINS 'infertility' OR d.node_name CONTAINS 'ovary' or  d.node_name CONTAINS 'prostate'\n",
    "\tRETURN e.node_name AS Exposure, d.node_name AS Disease, p.node_name AS Protein\n",
    "\n",
    "Note: Do not include explanations or apologies in your answers.\n",
    "Do not answer questions that ask anything other than creating Cypher statements.\n",
    "\n",
    "Question: {question}\"\"\"\n",
    "\n",
    "# Create question prompt\n",
    "question_prompt = PromptTemplate(\n",
    "    template=template, \n",
    "    input_variables=[\"schema\", \"question\"] \n",
    ")\n",
    "\n",
    "# Generate Cyper code\n",
    "qa = GraphCypherQAChain.from_llm(\n",
    "    llm=llm,\n",
    "    graph=graph,\n",
    "    cypher_prompt=question_prompt,\n",
    "    verbose=True,\n",
    "    allow_dangerous_requests=True\n",
    ")"
   ]
  },
  {
   "cell_type": "code",
   "execution_count": 13,
   "metadata": {},
   "outputs": [
    {
     "name": "stdout",
     "output_type": "stream",
     "text": [
      "\n",
      "\n",
      "\u001b[1m> Entering new GraphCypherQAChain chain...\u001b[0m\n",
      "Generated Cypher:\n",
      "\u001b[32;1m\u001b[1;3mMATCH (dr:drug)-[:indication]->(d:disease) \n",
      "WHERE d.node_name CONTAINS 'infertility'\n",
      "RETURN dr.node_name AS Treatment, d.node_name AS Disease\u001b[0m\n",
      "Full Context:\n",
      "\u001b[32;1m\u001b[1;3m[{'Treatment': 'Clomifene', 'Disease': 'female infertility'}]\u001b[0m\n",
      "\n",
      "\u001b[1m> Finished chain.\u001b[0m\n"
     ]
    }
   ],
   "source": [
    "# question = \"What are the major causes of infertility in women\"\n",
    "question = \"What are the most used treaments for infertility in women\"\n",
    "result = qa.invoke({\"query\": question})[\"result\"]"
   ]
  },
  {
   "cell_type": "code",
   "execution_count": 15,
   "metadata": {},
   "outputs": [
    {
     "name": "stdout",
     "output_type": "stream",
     "text": [
      "\n",
      "\n",
      "\u001b[1m> Entering new GraphCypherQAChain chain...\u001b[0m\n",
      "Generated Cypher:\n",
      "\u001b[32;1m\u001b[1;3mcypher\n",
      "MATCH (d:disease)<-[:indication]-(dr:drug)\n",
      "WHERE d.node_name CONTAINS 'hepatitis'\n",
      "RETURN dr.node_name AS Drug, d.node_name AS Disease\n",
      "\u001b[0m\n",
      "Full Context:\n",
      "\u001b[32;1m\u001b[1;3m[{'Drug': 'Ritonavir', 'Disease': 'chronic hepatitis C virus infection'}, {'Drug': 'Ritonavir', 'Disease': 'hepatitis C virus infection'}, {'Drug': 'Lamivudine', 'Disease': 'chronic hepatitis B virus infection'}, {'Drug': 'Telaprevir', 'Disease': 'chronic hepatitis C virus infection'}, {'Drug': 'Telaprevir', 'Disease': 'hepatitis C virus infection'}, {'Drug': 'Simeprevir', 'Disease': 'chronic hepatitis C virus infection'}, {'Drug': 'Simeprevir', 'Disease': 'hepatitis C virus infection'}, {'Drug': 'Grazoprevir', 'Disease': 'chronic hepatitis C virus infection'}, {'Drug': 'Grazoprevir', 'Disease': 'hepatitis C virus infection'}, {'Drug': 'Tenofovir', 'Disease': 'chronic hepatitis B virus infection'}]\u001b[0m\n",
      "\n",
      "\u001b[1m> Finished chain.\u001b[0m\n"
     ]
    }
   ],
   "source": [
    "# question = \"What are the major causes of infertility in women\"\n",
    "question = \"I did a test and i have herpatitis, what drugs should i take?\"\n",
    "result = qa.invoke({\"query\": question})[\"result\"]"
   ]
  },
  {
   "cell_type": "code",
   "execution_count": 16,
   "metadata": {},
   "outputs": [
    {
     "name": "stdout",
     "output_type": "stream",
     "text": [
      "Ritonavir, Telaprevir, Simeprevir, and Grazoprevir are drugs indicated for chronic hepatitis C virus infection and hepatitis C virus infection. Lamivudine and Tenofovir are indicated for chronic hepatitis B virus infection.\n"
     ]
    }
   ],
   "source": [
    "print(result)"
   ]
  },
  {
   "cell_type": "code",
   "execution_count": null,
   "metadata": {},
   "outputs": [],
   "source": []
  }
 ],
 "metadata": {
  "kernelspec": {
   "display_name": "Python 3 (ipykernel)",
   "language": "python",
   "name": "python3"
  },
  "language_info": {
   "codemirror_mode": {
    "name": "ipython",
    "version": 3
   },
   "file_extension": ".py",
   "mimetype": "text/x-python",
   "name": "python",
   "nbconvert_exporter": "python",
   "pygments_lexer": "ipython3",
   "version": "3.10.11"
  }
 },
 "nbformat": 4,
 "nbformat_minor": 4
}
